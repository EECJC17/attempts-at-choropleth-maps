{
 "cells": [
  {
   "cell_type": "code",
   "execution_count": 1,
   "metadata": {},
   "outputs": [],
   "source": [
    "import json\n",
    "import numpy as np\n",
    "import pandas as pd\n",
    "import plotly.express as px  #seemed to be a lot more info on using this for choropleth maps than cartopy. For some reason anacondas refuses to install geopandas\n",
    "import matplotlib.pyplot as plt\n",
    "\n",
    "\n",
    "# Attempting to create a choropleth map showing population density in UK local authorities to practice mapping stuff\n",
    "\n",
    "#counties = json.load(open(r\"C:\\Users\\conno\\OneDrive\\Documents\\pythonstuff\\population stuff\\Counties_and_Unitary_Authorities__December_2016__Boundaries.geojson\")) ignore- this is higher level LAs\n",
    "\n",
    "UK_districts = json.load(open(r\"C:\\Users\\conno\\OneDrive\\Documents\\pythonstuff\\population stuff\\data\\data\\2020UKLAs.json\")) # had to convert a shapefile to get an up to date UK LAs shapefile\n",
    "\n",
    "\n",
    "\n",
    "import plotly.io as pio\n",
    "pio.renderers.default = 'browser'  #opens up the map in a different tab. Without this, I just get a blank box when I try to run the code\n",
    "\n",
    "#print (UK_districts['features'][1])\n",
    "\n",
    "df = pd.read_csv (r'C:\\Users\\conno\\OneDrive\\Documents\\pythonstuff\\population stuff\\data\\data\\UKLApopdata.csv')\n",
    "\n",
    "LA_id_map = {}\n",
    "for feature in UK_districts[\"features\"]:\n",
    "    feature[\"id\"] = feature[\"properties\"][\"OBJECTID\"] # need to make an id feature for some reason, not sure why\n",
    "    LA_id_map[feature[\"properties\"][\"LAD20CD\"]] = feature[\"id\"] #LAD20NM is what the authority names are labelled as in the json\n",
    "    \n",
    "#that's a point actually, what is the difference between a json and a geojson? could that be causing an issue?\n",
    "\n",
    "df[\"Density\"] = df[\"2019 people per sq. km\"].apply(lambda x: int(x.split(\"/\")[0].replace(\",\", \"\")))#gets rid of commas in the csv data. I don't need the bit about splitting /, but I \"borrowed\" this code and it complains if I remove it\n",
    "df[\"id\"] = df[\"Code\"].apply(lambda x: LA_id_map[x]) #code is an identifier for the LAs in the csv\n",
    "df[\"DensityScale\"] = np.log10(df[\"Density\"]) #putting the densities on log scale for better comparison\n",
    "\n",
    "df['Code']\n",
    "fig = px.choropleth(df,locations=\"id\", geojson=UK_districts, color=\"DensityScale\", color_continuous_scale = \"blues\", title = \"Population Density UK Local Authorities\" )\n",
    "fig.update_geos(fitbounds=\"locations\", visible=False)  #reduces the scope of the produced map to just the UK. It won't load otherwise. No apparent difference between True and False\n",
    "fig.show()\n",
    "\n",
    "# not sure what the problem is - dodgy json? "
   ]
  },
  {
   "cell_type": "code",
   "execution_count": null,
   "metadata": {},
   "outputs": [],
   "source": []
  },
  {
   "cell_type": "code",
   "execution_count": null,
   "metadata": {},
   "outputs": [],
   "source": []
  },
  {
   "cell_type": "code",
   "execution_count": null,
   "metadata": {},
   "outputs": [],
   "source": []
  },
  {
   "cell_type": "code",
   "execution_count": null,
   "metadata": {},
   "outputs": [],
   "source": []
  }
 ],
 "metadata": {
  "kernelspec": {
   "display_name": "Python 3",
   "language": "python",
   "name": "python3"
  },
  "language_info": {
   "codemirror_mode": {
    "name": "ipython",
    "version": 3
   },
   "file_extension": ".py",
   "mimetype": "text/x-python",
   "name": "python",
   "nbconvert_exporter": "python",
   "pygments_lexer": "ipython3",
   "version": "3.8.3"
  }
 },
 "nbformat": 4,
 "nbformat_minor": 4
}
