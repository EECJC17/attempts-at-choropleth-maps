{
 "cells": [
  {
   "cell_type": "code",
   "execution_count": 1,
   "metadata": {},
   "outputs": [
    {
     "name": "stderr",
     "output_type": "stream",
     "text": [
      "<ipython-input-1-dbc61366b743>:16: SettingWithCopyWarning:\n",
      "\n",
      "\n",
      "A value is trying to be set on a copy of a slice from a DataFrame.\n",
      "Try using .loc[row_indexer,col_indexer] = value instead\n",
      "\n",
      "See the caveats in the documentation: https://pandas.pydata.org/pandas-docs/stable/user_guide/indexing.html#returning-a-view-versus-a-copy\n",
      "\n"
     ]
    }
   ],
   "source": [
    "import json\n",
    "import numpy as np\n",
    "import pandas as pd\n",
    "import plotly.express as px  #seemed to be a lot more info on using this for choropleth maps than cartopy. For some reason anacondas refuses to install geopandas\n",
    "import matplotlib.pyplot as plt\n",
    "import plotly.graph_objects as go\n",
    "\n",
    "data = pd.read_csv(r'WPP2019_POP_F06_POPULATION_DENSITY.csv', encoding = 'unicode_escape', header = 12)\n",
    "\n",
    "\n",
    "import plotly.io as pio\n",
    "pio.renderers.default = 'browser'  #opens up the map in a different tab. Without this, I just get a blank box when I try to run the code\n",
    "\n",
    "just_countries = data.loc[data['Type'] =='Country/Area']\n",
    "\n",
    "just_countries[\"2020DensityScale\"] = np.log10(just_countries[\"2020\"].astype(float))\n",
    "just_countries.head()\n",
    "\n",
    "\n",
    "#fig = px.choropleth(just_countries, locations=\"ISO\",\n",
    "                    #color=just_countries[\"2020\"].astype(float), \n",
    "                    #hover_name=\"Region, subregion, country or area *\", # column to add to hover information\n",
    "                    #color_continuous_scale=px.colors.sequential.Plasma)\n",
    "\n",
    "fig = go.Figure(data=go.Choropleth(\n",
    "    locations = just_countries['ISO'],\n",
    "    z = just_countries['2020DensityScale'].astype(float),\n",
    "    text = just_countries['2020'],\n",
    "    hovertext = ['Region, subregion, country or area *'],  #doesn't work - I want the country names to show when hovering too\n",
    "    marker_line_color='darkgray',\n",
    "    marker_line_width=0.5,\n",
    "    colorscale = 'Viridis',\n",
    "    reversescale = True,\n",
    "    colorbar_title = 'Population Density 2020 - Persons per km2 (log10)',\n",
    "    \n",
    "))\n",
    "fig.show()\n",
    "                \n"
   ]
  },
  {
   "cell_type": "code",
   "execution_count": null,
   "metadata": {},
   "outputs": [],
   "source": [
    "#fig = go.Figure(data=go.Choropleth(\n",
    "    #locations = just_countries['Country code'],\n",
    "    #z = just_countries['2020'],\n",
    "    #text = just_countries['Region, subregion, country or area *'],\n",
    "    #colorscale = 'Blues',\n",
    "    #autocolorscale=False,\n",
    "    #reversescale=True,\n",
    "    #marker_line_color='darkgray',\n",
    "    #marker_line_width=0.5,\n",
    "    #colorbar_title = 'Population Density 2020 - Persons per km2',\n",
    "#))"
   ]
  }
 ],
 "metadata": {
  "kernelspec": {
   "display_name": "Python 3",
   "language": "python",
   "name": "python3"
  },
  "language_info": {
   "codemirror_mode": {
    "name": "ipython",
    "version": 3
   },
   "file_extension": ".py",
   "mimetype": "text/x-python",
   "name": "python",
   "nbconvert_exporter": "python",
   "pygments_lexer": "ipython3",
   "version": "3.8.3"
  }
 },
 "nbformat": 4,
 "nbformat_minor": 4
}
